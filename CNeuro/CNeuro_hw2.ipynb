{
  "nbformat": 4,
  "nbformat_minor": 0,
  "metadata": {
    "colab": {
      "provenance": [],
      "authorship_tag": "ABX9TyP8Txp2UA0VdhyNrjSihG3I",
      "include_colab_link": true
    },
    "kernelspec": {
      "name": "python3",
      "display_name": "Python 3"
    },
    "language_info": {
      "name": "python"
    }
  },
  "cells": [
    {
      "cell_type": "markdown",
      "metadata": {
        "id": "view-in-github",
        "colab_type": "text"
      },
      "source": [
        "<a href=\"https://colab.research.google.com/github/miaomiaoYao/HW/blob/main/CNeuro/CNeuro_hw2.ipynb\" target=\"_parent\"><img src=\"https://colab.research.google.com/assets/colab-badge.svg\" alt=\"Open In Colab\"/></a>"
      ]
    },
    {
      "cell_type": "markdown",
      "source": [
        "# Generating Nonhomogeneous Poisson Processes"
      ],
      "metadata": {
        "id": "MiXHq_LJi0q7"
      }
    },
    {
      "cell_type": "code",
      "execution_count": 2,
      "metadata": {
        "id": "1pCM_iCTtnzh"
      },
      "outputs": [],
      "source": [
        "import math\n",
        "import numpy as np\n",
        "from scipy.integrate import odeint\n",
        "import matplotlib.pyplot as plt"
      ]
    },
    {
      "cell_type": "code",
      "source": [
        "# parameters\n",
        "r0 = 100\n",
        "tau = 0.3\n",
        "T = 20"
      ],
      "metadata": {
        "id": "iEihHqBYXMoF"
      },
      "execution_count": 3,
      "outputs": []
    },
    {
      "cell_type": "markdown",
      "source": [
        "$$r(t) = r_0 (1 + cos(\\frac{2\\pi t}{\\tau}))$$\n",
        "\n",
        "$$\\Lambda(t) = \\int_{t=0}^T r(t) dt = r_0(T + \\frac{\\tau}{2 \\pi}sin(\\frac{2\\pi T}{\\tau}))$$"
      ],
      "metadata": {
        "id": "bFf32RDwqCQj"
      }
    },
    {
      "cell_type": "code",
      "source": [
        "def r(t):\n",
        "  return r0*(1+np.cos(2*np.pi*t/tau))\n",
        "\n",
        "def lambda_t(T):\n",
        "  start = 0\n",
        "  stop = T\n",
        "  length = 1000\n",
        "  t = np.linspace(start, stop, length)\n",
        "  result = (stop-start)/length * sum(r(t))\n",
        "  return result\n",
        "\n",
        "def Lambda_t(T):\n",
        "  return r0*(T + tau/2*np.pi*np.sin(2*np.pi*T/tau))"
      ],
      "metadata": {
        "id": "DwpGQfJ-WomM"
      },
      "execution_count": 4,
      "outputs": []
    },
    {
      "cell_type": "markdown",
      "source": [
        "## Inversion Methods\n",
        "\n",
        "**Cinlar's Method**\n",
        "\n",
        "> The random variables $T_1, T_2,\\dots$ are event times corresponding to a Nonhomogeneous Poisson Process with expectation function $\\Lambda(t)$ if and only if $\\Lambda(T_1), \\Lambda(T_2), \\dots$ are the event times corresponding to a homogeneous Poisson Process with rate 1\n",
        "\n",
        "Initialize: $s = 0$ \n",
        "\n",
        "$\\rightarrow$ generate $x_1 \\sim Exp(1), s = s + x_1 \\quad (1)$ \n",
        "\n",
        "$\\rightarrow t_1  = \\Lambda^{-1}(s) \\quad (2)$\n",
        "\n",
        "repeat (1) and (2) and we get $t_1,\\dots,t_n$\n",
        "\n",
        "> the obstacle here is how to calculate the inverse function of $\\Lambda_t$\n",
        "\n",
        "**Another Inversion Approach**\n",
        "\n",
        "$F_{t_i}(x) = 1 - e^{-\\Lambda(t_i + x) + \\Lambda(t_i)}$\n",
        "\n",
        "$t = 0$\n",
        "$\\rightarrow x \\sim F_{t}, t = t + x$\n",
        "repeat above step and get direct simulation of $t$\n",
        "\n",
        "> the obstacle here is using MC to generate $x \\sim F_t(x)$\n"
      ],
      "metadata": {
        "id": "-b-WO4YajA40"
      }
    },
    {
      "cell_type": "markdown",
      "source": [
        "\n",
        "\n",
        "## Order statistics \n",
        "\n",
        "Assuming that there are n spikes during fixed time interval $[0, t_0]$\n",
        "\n",
        "Generate $n \\sim Poisson(\\Lambda(t_0))$\n",
        "Independently generate $t_1,\\dots,t_n$ from cdf $F(t) = \\frac{\\Lambda(t)}{\\Lambda(t_0)}$\n",
        "Then the order statistics $t_{(1)}, \\dots, t_{(n)}$ is what we want.\n",
        "\n",
        "> the obstacle here is that we do not know how many spikes happen in advance\n",
        "\n"
      ],
      "metadata": {
        "id": "5UcIqxlN-EzN"
      }
    },
    {
      "cell_type": "markdown",
      "source": [
        "## Acceptance-Rejection\n",
        "\n",
        "choose $0 \\leq \\lambda(t) \\leq \\lambda_u(t), t \\in [0,T_0]$, then we accept the real spike points with probability $\\frac{\\lambda(t)}{\\lambda_u}$\n",
        "\n",
        "Initialize: $t = 0$\n",
        "\n",
        "$\\rightarrow u_1 \\sim U(0,1)$\n",
        "\n",
        "$\\rightarrow t = t - \\frac{1}{\\lambda_u}log(u_1)$\n",
        "\n",
        "$u_2 \\sim U(0,1), u_2 \\perp u_1$\n",
        "\n",
        "if  $u_2 \\leq \\frac{\\lambda(t)}{\\lambda_u}$, accept $t_1 = t$, repeat\n",
        "\n",
        "In this problem, we have $r(t) = r_0(1 + cos(\\frac{2\\pi t}{\\tau})) \\leq 2r_0$, then we choose the bounded homogeneous poisson process of rate $2r_0$"
      ],
      "metadata": {
        "id": "e51kVEFwB_dE"
      }
    },
    {
      "cell_type": "code",
      "source": [
        "def accept_reject(T):\n",
        "  t = 0\n",
        "  S = 0\n",
        "  S_t = []\n",
        "  while t <= T:\n",
        "    u1 = np.random.uniform(0,1)\n",
        "    t = t - np.log(u1)\n",
        "    if t > T:\n",
        "      break\n",
        "    u2 = np.random.uniform(0,1)\n",
        "    if u2 < r(t)/(2*r0):\n",
        "      S = S+1\n",
        "      S_t.append(t)\n",
        "\n",
        "  return S_t\n",
        "      \n"
      ],
      "metadata": {
        "id": "1ErbxGHbESjA"
      },
      "execution_count": 13,
      "outputs": []
    },
    {
      "cell_type": "code",
      "source": [
        "# simulate spike time\n",
        "S_t = accept_reject(T)\n",
        "plt.plot(S_t, range(1,len(S_t)+1))\n",
        "plt.title(\"spike train\")\n",
        "plt.xlabel(\"spike time\")\n",
        "plt.ylabel(\"spike count\")"
      ],
      "metadata": {
        "colab": {
          "base_uri": "https://localhost:8080/",
          "height": 313
        },
        "id": "NK1w3hTiNmDI",
        "outputId": "163e25d3-8b47-4c47-e56f-9f4b2ae04076"
      },
      "execution_count": 33,
      "outputs": [
        {
          "output_type": "execute_result",
          "data": {
            "text/plain": [
              "Text(0, 0.5, 'spike count')"
            ]
          },
          "metadata": {},
          "execution_count": 33
        },
        {
          "output_type": "display_data",
          "data": {
            "text/plain": [
              "<Figure size 432x288 with 1 Axes>"
            ],
            "image/png": "[encoded data removed]"
          },
          "metadata": {
            "needs_background": "light"
          }
        }
      ]
    },
    {
      "cell_type": "code",
      "source": [
        "spike_num = []\n",
        "for i in range(10000):\n",
        "  # MC method \n",
        "  spike_num.append(len(accept_reject(T)))\n",
        "\n",
        "_, ax = plt.subplots()\n",
        "n, bins, patches = ax.hist(spike_num, bins = 25, density = True)"
      ],
      "metadata": {
        "colab": {
          "base_uri": "https://localhost:8080/",
          "height": 266
        },
        "id": "mW7uUyJAHuc1",
        "outputId": "24e08610-def0-46d7-ed8e-13a4de01c49c"
      },
      "execution_count": 28,
      "outputs": [
        {
          "output_type": "display_data",
          "data": {
            "text/plain": [
              "<Figure size 432x288 with 1 Axes>"
            ],
            "image/png": "[encoded data removed]"
          },
          "metadata": {
            "needs_background": "light"
          }
        }
      ]
    },
    {
      "cell_type": "markdown",
      "source": [
        "ref: [Generating Nonhomogeneous Poisson Processes](https://web.ics.purdue.edu/~pasupath/PAPERS/2011pasB.pdf)"
      ],
      "metadata": {
        "id": "Y3r6vpYsRYrO"
      }
    }
  ]
}